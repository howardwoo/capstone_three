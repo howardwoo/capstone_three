{
 "cells": [
  {
   "cell_type": "markdown",
   "id": "92edbbca",
   "metadata": {},
   "source": [
    "# project 3:search relevance prediction "
   ]
  },
  {
   "cell_type": "markdown",
   "id": "1c6cef6f",
   "metadata": {},
   "source": [
    "## step 1: import data"
   ]
  },
  {
   "cell_type": "code",
   "execution_count": 3,
   "id": "3a94776d",
   "metadata": {},
   "outputs": [],
   "source": [
    "import numpy as np \n",
    "import pandas as pd \n",
    "import seaborn as sns\n",
    "from scipy.stats import norm,skew\n",
    "import matplotlib.pyplot as plt\n",
    "%matplotlib inline\n",
    "from scipy import stats\n",
    "from sklearn.ensemble import RandomForestRegressor, BaggingRegressor\n",
    "from nltk.stem.snowball import SnowballStemmer \n"
   ]
  },
  {
   "cell_type": "code",
   "execution_count": 4,
   "id": "ba2847f1",
   "metadata": {},
   "outputs": [],
   "source": [
    "### import train and test set and product description data"
   ]
  },
  {
   "cell_type": "code",
   "execution_count": 5,
   "id": "cb69c51c",
   "metadata": {},
   "outputs": [],
   "source": [
    "df_train = pd.read_csv('C:/Users/wuhao/Desktop/springboard/capstone_three/train.csv', encoding =\"ISO-8859-1\")\n",
    "df_test = pd.read_csv('C:/Users/wuhao/Desktop/springboard/capstone_three/test.csv', encoding =\"ISO-8859-1\")"
   ]
  },
  {
   "cell_type": "code",
   "execution_count": 6,
   "id": "0e9aa7ad",
   "metadata": {},
   "outputs": [],
   "source": [
    "df_desc = pd.read_csv('C:/Users/wuhao/Desktop/springboard/capstone_three/product_descriptions.csv')"
   ]
  },
  {
   "cell_type": "code",
   "execution_count": 7,
   "id": "c1005bf6",
   "metadata": {},
   "outputs": [
    {
     "data": {
      "text/html": [
       "<div>\n",
       "<style scoped>\n",
       "    .dataframe tbody tr th:only-of-type {\n",
       "        vertical-align: middle;\n",
       "    }\n",
       "\n",
       "    .dataframe tbody tr th {\n",
       "        vertical-align: top;\n",
       "    }\n",
       "\n",
       "    .dataframe thead th {\n",
       "        text-align: right;\n",
       "    }\n",
       "</style>\n",
       "<table border=\"1\" class=\"dataframe\">\n",
       "  <thead>\n",
       "    <tr style=\"text-align: right;\">\n",
       "      <th></th>\n",
       "      <th>id</th>\n",
       "      <th>product_uid</th>\n",
       "      <th>product_title</th>\n",
       "      <th>search_term</th>\n",
       "      <th>relevance</th>\n",
       "    </tr>\n",
       "  </thead>\n",
       "  <tbody>\n",
       "    <tr>\n",
       "      <th>0</th>\n",
       "      <td>2</td>\n",
       "      <td>100001</td>\n",
       "      <td>Simpson Strong-Tie 12-Gauge Angle</td>\n",
       "      <td>angle bracket</td>\n",
       "      <td>3.00</td>\n",
       "    </tr>\n",
       "    <tr>\n",
       "      <th>1</th>\n",
       "      <td>3</td>\n",
       "      <td>100001</td>\n",
       "      <td>Simpson Strong-Tie 12-Gauge Angle</td>\n",
       "      <td>l bracket</td>\n",
       "      <td>2.50</td>\n",
       "    </tr>\n",
       "    <tr>\n",
       "      <th>2</th>\n",
       "      <td>9</td>\n",
       "      <td>100002</td>\n",
       "      <td>BEHR Premium Textured DeckOver 1-gal. #SC-141 ...</td>\n",
       "      <td>deck over</td>\n",
       "      <td>3.00</td>\n",
       "    </tr>\n",
       "    <tr>\n",
       "      <th>3</th>\n",
       "      <td>16</td>\n",
       "      <td>100005</td>\n",
       "      <td>Delta Vero 1-Handle Shower Only Faucet Trim Ki...</td>\n",
       "      <td>rain shower head</td>\n",
       "      <td>2.33</td>\n",
       "    </tr>\n",
       "    <tr>\n",
       "      <th>4</th>\n",
       "      <td>17</td>\n",
       "      <td>100005</td>\n",
       "      <td>Delta Vero 1-Handle Shower Only Faucet Trim Ki...</td>\n",
       "      <td>shower only faucet</td>\n",
       "      <td>2.67</td>\n",
       "    </tr>\n",
       "  </tbody>\n",
       "</table>\n",
       "</div>"
      ],
      "text/plain": [
       "   id  product_uid                                      product_title  \\\n",
       "0   2       100001                  Simpson Strong-Tie 12-Gauge Angle   \n",
       "1   3       100001                  Simpson Strong-Tie 12-Gauge Angle   \n",
       "2   9       100002  BEHR Premium Textured DeckOver 1-gal. #SC-141 ...   \n",
       "3  16       100005  Delta Vero 1-Handle Shower Only Faucet Trim Ki...   \n",
       "4  17       100005  Delta Vero 1-Handle Shower Only Faucet Trim Ki...   \n",
       "\n",
       "          search_term  relevance  \n",
       "0       angle bracket       3.00  \n",
       "1           l bracket       2.50  \n",
       "2           deck over       3.00  \n",
       "3    rain shower head       2.33  \n",
       "4  shower only faucet       2.67  "
      ]
     },
     "execution_count": 7,
     "metadata": {},
     "output_type": "execute_result"
    }
   ],
   "source": [
    "df_train.head(5)"
   ]
  },
  {
   "cell_type": "code",
   "execution_count": 8,
   "id": "4cf6af2e",
   "metadata": {},
   "outputs": [
    {
     "data": {
      "text/html": [
       "<div>\n",
       "<style scoped>\n",
       "    .dataframe tbody tr th:only-of-type {\n",
       "        vertical-align: middle;\n",
       "    }\n",
       "\n",
       "    .dataframe tbody tr th {\n",
       "        vertical-align: top;\n",
       "    }\n",
       "\n",
       "    .dataframe thead th {\n",
       "        text-align: right;\n",
       "    }\n",
       "</style>\n",
       "<table border=\"1\" class=\"dataframe\">\n",
       "  <thead>\n",
       "    <tr style=\"text-align: right;\">\n",
       "      <th></th>\n",
       "      <th>product_uid</th>\n",
       "      <th>product_description</th>\n",
       "    </tr>\n",
       "  </thead>\n",
       "  <tbody>\n",
       "    <tr>\n",
       "      <th>0</th>\n",
       "      <td>100001</td>\n",
       "      <td>Not only do angles make joints stronger, they ...</td>\n",
       "    </tr>\n",
       "    <tr>\n",
       "      <th>1</th>\n",
       "      <td>100002</td>\n",
       "      <td>BEHR Premium Textured DECKOVER is an innovativ...</td>\n",
       "    </tr>\n",
       "    <tr>\n",
       "      <th>2</th>\n",
       "      <td>100003</td>\n",
       "      <td>Classic architecture meets contemporary design...</td>\n",
       "    </tr>\n",
       "    <tr>\n",
       "      <th>3</th>\n",
       "      <td>100004</td>\n",
       "      <td>The Grape Solar 265-Watt Polycrystalline PV So...</td>\n",
       "    </tr>\n",
       "    <tr>\n",
       "      <th>4</th>\n",
       "      <td>100005</td>\n",
       "      <td>Update your bathroom with the Delta Vero Singl...</td>\n",
       "    </tr>\n",
       "  </tbody>\n",
       "</table>\n",
       "</div>"
      ],
      "text/plain": [
       "   product_uid                                product_description\n",
       "0       100001  Not only do angles make joints stronger, they ...\n",
       "1       100002  BEHR Premium Textured DECKOVER is an innovativ...\n",
       "2       100003  Classic architecture meets contemporary design...\n",
       "3       100004  The Grape Solar 265-Watt Polycrystalline PV So...\n",
       "4       100005  Update your bathroom with the Delta Vero Singl..."
      ]
     },
     "execution_count": 8,
     "metadata": {},
     "output_type": "execute_result"
    }
   ],
   "source": [
    "df_desc.head(5)"
   ]
  },
  {
   "cell_type": "code",
   "execution_count": 9,
   "id": "1365495b",
   "metadata": {},
   "outputs": [],
   "source": [
    "df_all = pd.concat((df_train,df_test),axis = 0, ignore_index = True)"
   ]
  },
  {
   "cell_type": "code",
   "execution_count": 10,
   "id": "e174b09e",
   "metadata": {},
   "outputs": [
    {
     "data": {
      "text/html": [
       "<div>\n",
       "<style scoped>\n",
       "    .dataframe tbody tr th:only-of-type {\n",
       "        vertical-align: middle;\n",
       "    }\n",
       "\n",
       "    .dataframe tbody tr th {\n",
       "        vertical-align: top;\n",
       "    }\n",
       "\n",
       "    .dataframe thead th {\n",
       "        text-align: right;\n",
       "    }\n",
       "</style>\n",
       "<table border=\"1\" class=\"dataframe\">\n",
       "  <thead>\n",
       "    <tr style=\"text-align: right;\">\n",
       "      <th></th>\n",
       "      <th>id</th>\n",
       "      <th>product_uid</th>\n",
       "      <th>product_title</th>\n",
       "      <th>search_term</th>\n",
       "      <th>relevance</th>\n",
       "    </tr>\n",
       "  </thead>\n",
       "  <tbody>\n",
       "    <tr>\n",
       "      <th>0</th>\n",
       "      <td>2</td>\n",
       "      <td>100001</td>\n",
       "      <td>Simpson Strong-Tie 12-Gauge Angle</td>\n",
       "      <td>angle bracket</td>\n",
       "      <td>3.00</td>\n",
       "    </tr>\n",
       "    <tr>\n",
       "      <th>1</th>\n",
       "      <td>3</td>\n",
       "      <td>100001</td>\n",
       "      <td>Simpson Strong-Tie 12-Gauge Angle</td>\n",
       "      <td>l bracket</td>\n",
       "      <td>2.50</td>\n",
       "    </tr>\n",
       "    <tr>\n",
       "      <th>2</th>\n",
       "      <td>9</td>\n",
       "      <td>100002</td>\n",
       "      <td>BEHR Premium Textured DeckOver 1-gal. #SC-141 ...</td>\n",
       "      <td>deck over</td>\n",
       "      <td>3.00</td>\n",
       "    </tr>\n",
       "    <tr>\n",
       "      <th>3</th>\n",
       "      <td>16</td>\n",
       "      <td>100005</td>\n",
       "      <td>Delta Vero 1-Handle Shower Only Faucet Trim Ki...</td>\n",
       "      <td>rain shower head</td>\n",
       "      <td>2.33</td>\n",
       "    </tr>\n",
       "    <tr>\n",
       "      <th>4</th>\n",
       "      <td>17</td>\n",
       "      <td>100005</td>\n",
       "      <td>Delta Vero 1-Handle Shower Only Faucet Trim Ki...</td>\n",
       "      <td>shower only faucet</td>\n",
       "      <td>2.67</td>\n",
       "    </tr>\n",
       "  </tbody>\n",
       "</table>\n",
       "</div>"
      ],
      "text/plain": [
       "   id  product_uid                                      product_title  \\\n",
       "0   2       100001                  Simpson Strong-Tie 12-Gauge Angle   \n",
       "1   3       100001                  Simpson Strong-Tie 12-Gauge Angle   \n",
       "2   9       100002  BEHR Premium Textured DeckOver 1-gal. #SC-141 ...   \n",
       "3  16       100005  Delta Vero 1-Handle Shower Only Faucet Trim Ki...   \n",
       "4  17       100005  Delta Vero 1-Handle Shower Only Faucet Trim Ki...   \n",
       "\n",
       "          search_term  relevance  \n",
       "0       angle bracket       3.00  \n",
       "1           l bracket       2.50  \n",
       "2           deck over       3.00  \n",
       "3    rain shower head       2.33  \n",
       "4  shower only faucet       2.67  "
      ]
     },
     "execution_count": 10,
     "metadata": {},
     "output_type": "execute_result"
    }
   ],
   "source": [
    "df_all.head(5)"
   ]
  },
  {
   "cell_type": "code",
   "execution_count": 11,
   "id": "0161c40e",
   "metadata": {},
   "outputs": [],
   "source": [
    "df_all = pd.merge(df_all, df_desc, how = \"left\", on = 'product_uid')"
   ]
  },
  {
   "cell_type": "code",
   "execution_count": 12,
   "id": "3bc25a0e",
   "metadata": {},
   "outputs": [
    {
     "data": {
      "text/html": [
       "<div>\n",
       "<style scoped>\n",
       "    .dataframe tbody tr th:only-of-type {\n",
       "        vertical-align: middle;\n",
       "    }\n",
       "\n",
       "    .dataframe tbody tr th {\n",
       "        vertical-align: top;\n",
       "    }\n",
       "\n",
       "    .dataframe thead th {\n",
       "        text-align: right;\n",
       "    }\n",
       "</style>\n",
       "<table border=\"1\" class=\"dataframe\">\n",
       "  <thead>\n",
       "    <tr style=\"text-align: right;\">\n",
       "      <th></th>\n",
       "      <th>id</th>\n",
       "      <th>product_uid</th>\n",
       "      <th>product_title</th>\n",
       "      <th>search_term</th>\n",
       "      <th>relevance</th>\n",
       "      <th>product_description</th>\n",
       "    </tr>\n",
       "  </thead>\n",
       "  <tbody>\n",
       "    <tr>\n",
       "      <th>0</th>\n",
       "      <td>2</td>\n",
       "      <td>100001</td>\n",
       "      <td>Simpson Strong-Tie 12-Gauge Angle</td>\n",
       "      <td>angle bracket</td>\n",
       "      <td>3.00</td>\n",
       "      <td>Not only do angles make joints stronger, they ...</td>\n",
       "    </tr>\n",
       "    <tr>\n",
       "      <th>1</th>\n",
       "      <td>3</td>\n",
       "      <td>100001</td>\n",
       "      <td>Simpson Strong-Tie 12-Gauge Angle</td>\n",
       "      <td>l bracket</td>\n",
       "      <td>2.50</td>\n",
       "      <td>Not only do angles make joints stronger, they ...</td>\n",
       "    </tr>\n",
       "    <tr>\n",
       "      <th>2</th>\n",
       "      <td>9</td>\n",
       "      <td>100002</td>\n",
       "      <td>BEHR Premium Textured DeckOver 1-gal. #SC-141 ...</td>\n",
       "      <td>deck over</td>\n",
       "      <td>3.00</td>\n",
       "      <td>BEHR Premium Textured DECKOVER is an innovativ...</td>\n",
       "    </tr>\n",
       "    <tr>\n",
       "      <th>3</th>\n",
       "      <td>16</td>\n",
       "      <td>100005</td>\n",
       "      <td>Delta Vero 1-Handle Shower Only Faucet Trim Ki...</td>\n",
       "      <td>rain shower head</td>\n",
       "      <td>2.33</td>\n",
       "      <td>Update your bathroom with the Delta Vero Singl...</td>\n",
       "    </tr>\n",
       "    <tr>\n",
       "      <th>4</th>\n",
       "      <td>17</td>\n",
       "      <td>100005</td>\n",
       "      <td>Delta Vero 1-Handle Shower Only Faucet Trim Ki...</td>\n",
       "      <td>shower only faucet</td>\n",
       "      <td>2.67</td>\n",
       "      <td>Update your bathroom with the Delta Vero Singl...</td>\n",
       "    </tr>\n",
       "  </tbody>\n",
       "</table>\n",
       "</div>"
      ],
      "text/plain": [
       "   id  product_uid                                      product_title  \\\n",
       "0   2       100001                  Simpson Strong-Tie 12-Gauge Angle   \n",
       "1   3       100001                  Simpson Strong-Tie 12-Gauge Angle   \n",
       "2   9       100002  BEHR Premium Textured DeckOver 1-gal. #SC-141 ...   \n",
       "3  16       100005  Delta Vero 1-Handle Shower Only Faucet Trim Ki...   \n",
       "4  17       100005  Delta Vero 1-Handle Shower Only Faucet Trim Ki...   \n",
       "\n",
       "          search_term  relevance  \\\n",
       "0       angle bracket       3.00   \n",
       "1           l bracket       2.50   \n",
       "2           deck over       3.00   \n",
       "3    rain shower head       2.33   \n",
       "4  shower only faucet       2.67   \n",
       "\n",
       "                                 product_description  \n",
       "0  Not only do angles make joints stronger, they ...  \n",
       "1  Not only do angles make joints stronger, they ...  \n",
       "2  BEHR Premium Textured DECKOVER is an innovativ...  \n",
       "3  Update your bathroom with the Delta Vero Singl...  \n",
       "4  Update your bathroom with the Delta Vero Singl...  "
      ]
     },
     "execution_count": 12,
     "metadata": {},
     "output_type": "execute_result"
    }
   ],
   "source": [
    "df_all.head(5)"
   ]
  },
  {
   "cell_type": "markdown",
   "id": "2fc1d03c",
   "metadata": {},
   "source": [
    "## step 2: data preprocessing and wrangling"
   ]
  },
  {
   "cell_type": "code",
   "execution_count": 13,
   "id": "d293ee04",
   "metadata": {},
   "outputs": [],
   "source": [
    "### text normalization, here we use stemmer first"
   ]
  },
  {
   "cell_type": "code",
   "execution_count": 14,
   "id": "fec639ae",
   "metadata": {},
   "outputs": [],
   "source": [
    "stemmer = SnowballStemmer('english')\n",
    "def str_stemmer(s):\n",
    "    return \" \".join([stemmer.stem(word) for word in s.lower().split()])"
   ]
  },
  {
   "cell_type": "code",
   "execution_count": 15,
   "id": "dee1052e",
   "metadata": {},
   "outputs": [],
   "source": [
    "### counter thew  numbers of a word occourred "
   ]
  },
  {
   "cell_type": "code",
   "execution_count": 16,
   "id": "ee9a4c3f",
   "metadata": {},
   "outputs": [],
   "source": [
    "def str_common_word(str1, str2):\n",
    "    return sum(int(str2.find(word)>=0) for word in str1.split())"
   ]
  },
  {
   "cell_type": "code",
   "execution_count": 17,
   "id": "b648c440",
   "metadata": {},
   "outputs": [],
   "source": [
    "#apply this method to one column"
   ]
  },
  {
   "cell_type": "code",
   "execution_count": 18,
   "id": "df29d17a",
   "metadata": {},
   "outputs": [],
   "source": [
    "df_all['search_term'] = df_all['search_term'].map(lambda x: str_stemmer(x))"
   ]
  },
  {
   "cell_type": "code",
   "execution_count": 19,
   "id": "30052383",
   "metadata": {},
   "outputs": [
    {
     "data": {
      "text/html": [
       "<div>\n",
       "<style scoped>\n",
       "    .dataframe tbody tr th:only-of-type {\n",
       "        vertical-align: middle;\n",
       "    }\n",
       "\n",
       "    .dataframe tbody tr th {\n",
       "        vertical-align: top;\n",
       "    }\n",
       "\n",
       "    .dataframe thead th {\n",
       "        text-align: right;\n",
       "    }\n",
       "</style>\n",
       "<table border=\"1\" class=\"dataframe\">\n",
       "  <thead>\n",
       "    <tr style=\"text-align: right;\">\n",
       "      <th></th>\n",
       "      <th>id</th>\n",
       "      <th>product_uid</th>\n",
       "      <th>product_title</th>\n",
       "      <th>search_term</th>\n",
       "      <th>relevance</th>\n",
       "      <th>product_description</th>\n",
       "    </tr>\n",
       "  </thead>\n",
       "  <tbody>\n",
       "    <tr>\n",
       "      <th>0</th>\n",
       "      <td>2</td>\n",
       "      <td>100001</td>\n",
       "      <td>Simpson Strong-Tie 12-Gauge Angle</td>\n",
       "      <td>angl bracket</td>\n",
       "      <td>3.00</td>\n",
       "      <td>Not only do angles make joints stronger, they ...</td>\n",
       "    </tr>\n",
       "    <tr>\n",
       "      <th>1</th>\n",
       "      <td>3</td>\n",
       "      <td>100001</td>\n",
       "      <td>Simpson Strong-Tie 12-Gauge Angle</td>\n",
       "      <td>l bracket</td>\n",
       "      <td>2.50</td>\n",
       "      <td>Not only do angles make joints stronger, they ...</td>\n",
       "    </tr>\n",
       "    <tr>\n",
       "      <th>2</th>\n",
       "      <td>9</td>\n",
       "      <td>100002</td>\n",
       "      <td>BEHR Premium Textured DeckOver 1-gal. #SC-141 ...</td>\n",
       "      <td>deck over</td>\n",
       "      <td>3.00</td>\n",
       "      <td>BEHR Premium Textured DECKOVER is an innovativ...</td>\n",
       "    </tr>\n",
       "    <tr>\n",
       "      <th>3</th>\n",
       "      <td>16</td>\n",
       "      <td>100005</td>\n",
       "      <td>Delta Vero 1-Handle Shower Only Faucet Trim Ki...</td>\n",
       "      <td>rain shower head</td>\n",
       "      <td>2.33</td>\n",
       "      <td>Update your bathroom with the Delta Vero Singl...</td>\n",
       "    </tr>\n",
       "    <tr>\n",
       "      <th>4</th>\n",
       "      <td>17</td>\n",
       "      <td>100005</td>\n",
       "      <td>Delta Vero 1-Handle Shower Only Faucet Trim Ki...</td>\n",
       "      <td>shower onli faucet</td>\n",
       "      <td>2.67</td>\n",
       "      <td>Update your bathroom with the Delta Vero Singl...</td>\n",
       "    </tr>\n",
       "  </tbody>\n",
       "</table>\n",
       "</div>"
      ],
      "text/plain": [
       "   id  product_uid                                      product_title  \\\n",
       "0   2       100001                  Simpson Strong-Tie 12-Gauge Angle   \n",
       "1   3       100001                  Simpson Strong-Tie 12-Gauge Angle   \n",
       "2   9       100002  BEHR Premium Textured DeckOver 1-gal. #SC-141 ...   \n",
       "3  16       100005  Delta Vero 1-Handle Shower Only Faucet Trim Ki...   \n",
       "4  17       100005  Delta Vero 1-Handle Shower Only Faucet Trim Ki...   \n",
       "\n",
       "          search_term  relevance  \\\n",
       "0        angl bracket       3.00   \n",
       "1           l bracket       2.50   \n",
       "2           deck over       3.00   \n",
       "3    rain shower head       2.33   \n",
       "4  shower onli faucet       2.67   \n",
       "\n",
       "                                 product_description  \n",
       "0  Not only do angles make joints stronger, they ...  \n",
       "1  Not only do angles make joints stronger, they ...  \n",
       "2  BEHR Premium Textured DECKOVER is an innovativ...  \n",
       "3  Update your bathroom with the Delta Vero Singl...  \n",
       "4  Update your bathroom with the Delta Vero Singl...  "
      ]
     },
     "execution_count": 19,
     "metadata": {},
     "output_type": "execute_result"
    }
   ],
   "source": [
    "df_all.head(5)"
   ]
  },
  {
   "cell_type": "code",
   "execution_count": 20,
   "id": "b049d24a",
   "metadata": {},
   "outputs": [],
   "source": [
    "#apply this method to all columns "
   ]
  },
  {
   "cell_type": "code",
   "execution_count": 21,
   "id": "5e671b55",
   "metadata": {},
   "outputs": [],
   "source": [
    "df_all['product_title'] = df_all['product_title'].map(lambda x:str_stemmer(x))"
   ]
  },
  {
   "cell_type": "code",
   "execution_count": 22,
   "id": "07687559",
   "metadata": {},
   "outputs": [],
   "source": [
    "df_all['product_description'] = df_all['product_description'].map(lambda x:str_stemmer(x))"
   ]
  },
  {
   "cell_type": "code",
   "execution_count": 23,
   "id": "dd74760d",
   "metadata": {},
   "outputs": [
    {
     "data": {
      "text/html": [
       "<div>\n",
       "<style scoped>\n",
       "    .dataframe tbody tr th:only-of-type {\n",
       "        vertical-align: middle;\n",
       "    }\n",
       "\n",
       "    .dataframe tbody tr th {\n",
       "        vertical-align: top;\n",
       "    }\n",
       "\n",
       "    .dataframe thead th {\n",
       "        text-align: right;\n",
       "    }\n",
       "</style>\n",
       "<table border=\"1\" class=\"dataframe\">\n",
       "  <thead>\n",
       "    <tr style=\"text-align: right;\">\n",
       "      <th></th>\n",
       "      <th>id</th>\n",
       "      <th>product_uid</th>\n",
       "      <th>product_title</th>\n",
       "      <th>search_term</th>\n",
       "      <th>relevance</th>\n",
       "      <th>product_description</th>\n",
       "    </tr>\n",
       "  </thead>\n",
       "  <tbody>\n",
       "    <tr>\n",
       "      <th>0</th>\n",
       "      <td>2</td>\n",
       "      <td>100001</td>\n",
       "      <td>simpson strong-ti 12-gaug angl</td>\n",
       "      <td>angl bracket</td>\n",
       "      <td>3.00</td>\n",
       "      <td>not onli do angl make joint stronger, they als...</td>\n",
       "    </tr>\n",
       "    <tr>\n",
       "      <th>1</th>\n",
       "      <td>3</td>\n",
       "      <td>100001</td>\n",
       "      <td>simpson strong-ti 12-gaug angl</td>\n",
       "      <td>l bracket</td>\n",
       "      <td>2.50</td>\n",
       "      <td>not onli do angl make joint stronger, they als...</td>\n",
       "    </tr>\n",
       "    <tr>\n",
       "      <th>2</th>\n",
       "      <td>9</td>\n",
       "      <td>100002</td>\n",
       "      <td>behr premium textur deckov 1-gal. #sc-141 tugb...</td>\n",
       "      <td>deck over</td>\n",
       "      <td>3.00</td>\n",
       "      <td>behr premium textur deckov is an innov solid c...</td>\n",
       "    </tr>\n",
       "    <tr>\n",
       "      <th>3</th>\n",
       "      <td>16</td>\n",
       "      <td>100005</td>\n",
       "      <td>delta vero 1-handl shower onli faucet trim kit...</td>\n",
       "      <td>rain shower head</td>\n",
       "      <td>2.33</td>\n",
       "      <td>updat your bathroom with the delta vero single...</td>\n",
       "    </tr>\n",
       "    <tr>\n",
       "      <th>4</th>\n",
       "      <td>17</td>\n",
       "      <td>100005</td>\n",
       "      <td>delta vero 1-handl shower onli faucet trim kit...</td>\n",
       "      <td>shower onli faucet</td>\n",
       "      <td>2.67</td>\n",
       "      <td>updat your bathroom with the delta vero single...</td>\n",
       "    </tr>\n",
       "  </tbody>\n",
       "</table>\n",
       "</div>"
      ],
      "text/plain": [
       "   id  product_uid                                      product_title  \\\n",
       "0   2       100001                     simpson strong-ti 12-gaug angl   \n",
       "1   3       100001                     simpson strong-ti 12-gaug angl   \n",
       "2   9       100002  behr premium textur deckov 1-gal. #sc-141 tugb...   \n",
       "3  16       100005  delta vero 1-handl shower onli faucet trim kit...   \n",
       "4  17       100005  delta vero 1-handl shower onli faucet trim kit...   \n",
       "\n",
       "          search_term  relevance  \\\n",
       "0        angl bracket       3.00   \n",
       "1           l bracket       2.50   \n",
       "2           deck over       3.00   \n",
       "3    rain shower head       2.33   \n",
       "4  shower onli faucet       2.67   \n",
       "\n",
       "                                 product_description  \n",
       "0  not onli do angl make joint stronger, they als...  \n",
       "1  not onli do angl make joint stronger, they als...  \n",
       "2  behr premium textur deckov is an innov solid c...  \n",
       "3  updat your bathroom with the delta vero single...  \n",
       "4  updat your bathroom with the delta vero single...  "
      ]
     },
     "execution_count": 23,
     "metadata": {},
     "output_type": "execute_result"
    }
   ],
   "source": [
    "df_all.head(5)"
   ]
  },
  {
   "cell_type": "markdown",
   "id": "af972d48",
   "metadata": {},
   "source": [
    "## step 3: Exploratory Data Analysis "
   ]
  },
  {
   "cell_type": "code",
   "execution_count": 24,
   "id": "8c30baaa",
   "metadata": {},
   "outputs": [],
   "source": [
    "# we want to check any missing data or outliers for any columns"
   ]
  },
  {
   "cell_type": "code",
   "execution_count": 25,
   "id": "01df1001",
   "metadata": {},
   "outputs": [
    {
     "data": {
      "text/plain": [
       "id                      0.000000\n",
       "product_uid             0.000000\n",
       "product_title           0.000000\n",
       "search_term             0.000000\n",
       "relevance              69.236169\n",
       "product_description     0.000000\n",
       "dtype: float64"
      ]
     },
     "execution_count": 25,
     "metadata": {},
     "output_type": "execute_result"
    }
   ],
   "source": [
    "df_all_null = (df_all.isnull().sum()/len(df_all))*100\n",
    "df_all_null"
   ]
  },
  {
   "cell_type": "code",
   "execution_count": 26,
   "id": "c754c21b",
   "metadata": {},
   "outputs": [
    {
     "data": {
      "text/html": [
       "<div>\n",
       "<style scoped>\n",
       "    .dataframe tbody tr th:only-of-type {\n",
       "        vertical-align: middle;\n",
       "    }\n",
       "\n",
       "    .dataframe tbody tr th {\n",
       "        vertical-align: top;\n",
       "    }\n",
       "\n",
       "    .dataframe thead th {\n",
       "        text-align: right;\n",
       "    }\n",
       "</style>\n",
       "<table border=\"1\" class=\"dataframe\">\n",
       "  <thead>\n",
       "    <tr style=\"text-align: right;\">\n",
       "      <th></th>\n",
       "      <th>Miss_data_Ratio</th>\n",
       "    </tr>\n",
       "  </thead>\n",
       "  <tbody>\n",
       "    <tr>\n",
       "      <th>id</th>\n",
       "      <td>0.000000</td>\n",
       "    </tr>\n",
       "    <tr>\n",
       "      <th>product_uid</th>\n",
       "      <td>0.000000</td>\n",
       "    </tr>\n",
       "    <tr>\n",
       "      <th>product_title</th>\n",
       "      <td>0.000000</td>\n",
       "    </tr>\n",
       "    <tr>\n",
       "      <th>search_term</th>\n",
       "      <td>0.000000</td>\n",
       "    </tr>\n",
       "    <tr>\n",
       "      <th>relevance</th>\n",
       "      <td>69.236169</td>\n",
       "    </tr>\n",
       "    <tr>\n",
       "      <th>product_description</th>\n",
       "      <td>0.000000</td>\n",
       "    </tr>\n",
       "  </tbody>\n",
       "</table>\n",
       "</div>"
      ],
      "text/plain": [
       "                     Miss_data_Ratio\n",
       "id                          0.000000\n",
       "product_uid                 0.000000\n",
       "product_title               0.000000\n",
       "search_term                 0.000000\n",
       "relevance                  69.236169\n",
       "product_description         0.000000"
      ]
     },
     "execution_count": 26,
     "metadata": {},
     "output_type": "execute_result"
    }
   ],
   "source": [
    "missing_data = pd.DataFrame({'Miss_data_Ratio':df_all_null})\n",
    "missing_data.head(20)"
   ]
  },
  {
   "cell_type": "markdown",
   "id": "304d1fe0",
   "metadata": {},
   "source": [
    "### no worry, I check the test set, there is no relvevance cloumns in that set, so this missing ratio is \"come\" from the test set.Anythinelse is okay."
   ]
  },
  {
   "cell_type": "code",
   "execution_count": 27,
   "id": "06adfbd5",
   "metadata": {},
   "outputs": [],
   "source": [
    "#we want to check the distribution of the relevance score"
   ]
  },
  {
   "cell_type": "code",
   "execution_count": 46,
   "id": "dfaea73c",
   "metadata": {},
   "outputs": [],
   "source": [
    "relevance = df_train.relevance.values"
   ]
  },
  {
   "cell_type": "code",
   "execution_count": 47,
   "id": "8c6a7f75",
   "metadata": {},
   "outputs": [
    {
     "data": {
      "text/plain": [
       "array([3.  , 2.5 , 3.  , ..., 2.33, 3.  , 2.33])"
      ]
     },
     "execution_count": 47,
     "metadata": {},
     "output_type": "execute_result"
    }
   ],
   "source": [
    "relevance"
   ]
  },
  {
   "cell_type": "code",
   "execution_count": null,
   "id": "1b72e47a",
   "metadata": {},
   "outputs": [],
   "source": []
  },
  {
   "cell_type": "code",
   "execution_count": 33,
   "id": "30933fc0",
   "metadata": {},
   "outputs": [
    {
     "data": {
      "text/plain": [
       "(array([2.1050e+03, 0.0000e+00, 0.0000e+00, 0.0000e+00, 0.0000e+00,\n",
       "        4.0000e+00, 3.0060e+03, 0.0000e+00, 0.0000e+00, 0.0000e+00,\n",
       "        5.0000e+00, 0.0000e+00, 0.0000e+00, 6.7800e+03, 0.0000e+00,\n",
       "        9.0000e+00, 0.0000e+00, 0.0000e+00, 0.0000e+00, 0.0000e+00,\n",
       "        1.1730e+04, 0.0000e+00, 0.0000e+00, 0.0000e+00, 0.0000e+00,\n",
       "        1.1000e+01, 1.6060e+04, 0.0000e+00, 0.0000e+00, 0.0000e+00,\n",
       "        1.9000e+01, 0.0000e+00, 0.0000e+00, 1.5202e+04, 0.0000e+00,\n",
       "        1.1000e+01, 0.0000e+00, 0.0000e+00, 0.0000e+00, 1.9125e+04]),\n",
       " array([1.  , 1.05, 1.1 , 1.15, 1.2 , 1.25, 1.3 , 1.35, 1.4 , 1.45, 1.5 ,\n",
       "        1.55, 1.6 , 1.65, 1.7 , 1.75, 1.8 , 1.85, 1.9 , 1.95, 2.  , 2.05,\n",
       "        2.1 , 2.15, 2.2 , 2.25, 2.3 , 2.35, 2.4 , 2.45, 2.5 , 2.55, 2.6 ,\n",
       "        2.65, 2.7 , 2.75, 2.8 , 2.85, 2.9 , 2.95, 3.  ]),\n",
       " <BarContainer object of 40 artists>)"
      ]
     },
     "execution_count": 33,
     "metadata": {},
     "output_type": "execute_result"
    },
    {
     "data": {
      "image/png": "[encoded data removed]",
      "text/plain": [
       "<Figure size 432x288 with 1 Axes>"
      ]
     },
     "metadata": {
      "needs_background": "light"
     },
     "output_type": "display_data"
    }
   ],
   "source": [
    "plt.hist(relevance, bins=40, facecolor=\"blue\", edgecolor=\"black\", alpha=0.7)"
   ]
  },
  {
   "cell_type": "code",
   "execution_count": null,
   "id": "221e3234",
   "metadata": {},
   "outputs": [],
   "source": [
    "# from here we might have concluded that the revelvance score are discrete value"
   ]
  },
  {
   "cell_type": "code",
   "execution_count": 39,
   "id": "7106e0f1",
   "metadata": {},
   "outputs": [
    {
     "data": {
      "text/plain": [
       "[<matplotlib.lines.Line2D at 0x2767bcd31f0>]"
      ]
     },
     "execution_count": 39,
     "metadata": {},
     "output_type": "execute_result"
    },
    {
     "data": {
      "image/png": "[encoded data removed]",
      "text/plain": [
       "<Figure size 432x288 with 1 Axes>"
      ]
     },
     "metadata": {
      "needs_background": "light"
     },
     "output_type": "display_data"
    }
   ],
   "source": [
    "from scipy.stats import chi2\n",
    "plt.plot(relevance,chi2.pdf(relevance, df = 4),color ='blue')\n",
    "plt.plot(relevance,chi2.pdf(relevance, df = 8),color ='red')\n",
    "plt.plot(relevance,chi2.pdf(relevance, df = 12),color ='gold')"
   ]
  },
  {
   "cell_type": "code",
   "execution_count": 61,
   "id": "02725a41",
   "metadata": {},
   "outputs": [
    {
     "data": {
      "text/plain": [
       "<AxesSubplot:xlabel='relevance', ylabel='product_uid'>"
      ]
     },
     "execution_count": 61,
     "metadata": {},
     "output_type": "execute_result"
    },
    {
     "data": {
      "image/png": "[encoded data removed]",
      "text/plain": [
       "<Figure size 432x288 with 2 Axes>"
      ]
     },
     "metadata": {
      "needs_background": "light"
     },
     "output_type": "display_data"
    }
   ],
   "source": [
    "fig,axes = plt.subplots(2,1)\n",
    "sns.violinplot(x = \"relevance\",y = \"product_uid\",data=df_all, inner = \"box\", ax = axes[0])\n",
    "sns.violinplot(x = \"relevance\",y = \"product_uid\",data=df_all, inner = \"quartile\", ax = axes[1])\n",
    "#sns.violinplot(x = \"relevance\",y = \"product_uid\",data=df_all, inner = \"point\", ax = axes[1,0])\n",
    "#sns.violinplot(x = \"relevance\",y = \"product_uid\",data=df_all, inner = \"stick\", ax = axes[1,1])"
   ]
  },
  {
   "cell_type": "code",
   "execution_count": 62,
   "id": "7f5266b3",
   "metadata": {},
   "outputs": [
    {
     "data": {
      "text/plain": [
       "<AxesSubplot:xlabel='relevance', ylabel='product_uid'>"
      ]
     },
     "execution_count": 62,
     "metadata": {},
     "output_type": "execute_result"
    },
    {
     "data": {
      "image/png": "[encoded data removed]",
      "text/plain": [
       "<Figure size 432x288 with 2 Axes>"
      ]
     },
     "metadata": {
      "needs_background": "light"
     },
     "output_type": "display_data"
    }
   ],
   "source": [
    "fig,axes = plt.subplots(2,1)\n",
    "sns.violinplot(x = \"relevance\",y = \"product_uid\",data=df_all, inner = \"point\", ax = axes[0])\n",
    "sns.violinplot(x = \"relevance\",y = \"product_uid\",data=df_all, inner = \"stick\", ax = axes[1])"
   ]
  },
  {
   "cell_type": "code",
   "execution_count": 49,
   "id": "c8c43713",
   "metadata": {},
   "outputs": [],
   "source": [
    "product_uid = df_train.product_uid.values"
   ]
  },
  {
   "cell_type": "code",
   "execution_count": null,
   "id": "4acc63b2",
   "metadata": {},
   "outputs": [],
   "source": [
    "x = \"relevance\",y = \"product_uid\""
   ]
  },
  {
   "cell_type": "code",
   "execution_count": 52,
   "id": "668c97fe",
   "metadata": {},
   "outputs": [
    {
     "data": {
      "image/png": "[encoded data removed]",
      "text/plain": [
       "<Figure size 432x288 with 1 Axes>"
      ]
     },
     "metadata": {
      "needs_background": "light"
     },
     "output_type": "display_data"
    }
   ],
   "source": [
    "plt.scatter(relevance, product_uid, alpha = 0.5)\n",
    "plt.show()"
   ]
  },
  {
   "cell_type": "code",
   "execution_count": null,
   "id": "8009a7f0",
   "metadata": {},
   "outputs": [],
   "source": [
    "# now we can concluded that the scores are very discrete."
   ]
  },
  {
   "cell_type": "code",
   "execution_count": 54,
   "id": "bab64f6b",
   "metadata": {},
   "outputs": [
    {
     "data": {
      "text/plain": [
       "3.00    19125\n",
       "2.33    16060\n",
       "2.67    15202\n",
       "2.00    11730\n",
       "1.67     6780\n",
       "1.33     3006\n",
       "1.00     2105\n",
       "2.50       19\n",
       "2.25       11\n",
       "2.75       11\n",
       "1.75        9\n",
       "1.50        5\n",
       "1.25        4\n",
       "Name: relevance, dtype: int64"
      ]
     },
     "execution_count": 54,
     "metadata": {},
     "output_type": "execute_result"
    }
   ],
   "source": [
    "df_all.relevance.value_counts()"
   ]
  },
  {
   "cell_type": "code",
   "execution_count": null,
   "id": "812d222b",
   "metadata": {},
   "outputs": [],
   "source": [
    "### most of them are drop in 2~3 which means most of the releveance score is closed to the 3(most accuracy)"
   ]
  },
  {
   "cell_type": "markdown",
   "id": "68e2fbdc",
   "metadata": {},
   "source": [
    "## step 4: feature engineering"
   ]
  },
  {
   "cell_type": "markdown",
   "id": "9d27ff48",
   "metadata": {},
   "source": [
    "### create some new numeric features for future use "
   ]
  },
  {
   "cell_type": "code",
   "execution_count": 23,
   "id": "ebd8b4b1",
   "metadata": {},
   "outputs": [],
   "source": [
    "# import levenshtein distance to measure the numeric distance between search term and product title; search and product description"
   ]
  },
  {
   "cell_type": "code",
   "execution_count": 36,
   "id": "b309be12",
   "metadata": {},
   "outputs": [
    {
     "data": {
      "text/plain": [
       "0.625"
      ]
     },
     "execution_count": 36,
     "metadata": {},
     "output_type": "execute_result"
    }
   ],
   "source": [
    "import Levenshtein\n",
    "Levenshtein.ratio('hello','hello world')"
   ]
  },
  {
   "cell_type": "code",
   "execution_count": 37,
   "id": "584b359a",
   "metadata": {},
   "outputs": [],
   "source": [
    "df_all['dist_in_title'] =df_all.apply(lambda x:Levenshtein.ratio(x['search_term'], x[\"product_title\"]), axis = 1)"
   ]
  },
  {
   "cell_type": "code",
   "execution_count": 38,
   "id": "b20a1369",
   "metadata": {},
   "outputs": [],
   "source": [
    "df_all['dist_in_desc'] = df_all.apply(lambda x:Levenshtein.ratio(x['search_term'],x['product_description']), axis=1)"
   ]
  },
  {
   "cell_type": "code",
   "execution_count": 39,
   "id": "a2e9c980",
   "metadata": {},
   "outputs": [],
   "source": [
    "# create a new column which merge the product_ title and product description for construct a corpus"
   ]
  },
  {
   "cell_type": "code",
   "execution_count": 40,
   "id": "d5789aaa",
   "metadata": {},
   "outputs": [],
   "source": [
    "df_all['all_texts']=df_all['product_title'] + ' . ' + df_all['product_description'] + ' . '"
   ]
  },
  {
   "cell_type": "code",
   "execution_count": 41,
   "id": "90c771e1",
   "metadata": {},
   "outputs": [
    {
     "data": {
      "text/plain": [
       "0    simpson strong-ti 12-gaug angl . not onli do a...\n",
       "1    simpson strong-ti 12-gaug angl . not onli do a...\n",
       "2    behr premium textur deckov 1-gal. #sc-141 tugb...\n",
       "3    delta vero 1-handl shower onli faucet trim kit...\n",
       "4    delta vero 1-handl shower onli faucet trim kit...\n",
       "Name: all_texts, dtype: object"
      ]
     },
     "execution_count": 41,
     "metadata": {},
     "output_type": "execute_result"
    }
   ],
   "source": [
    "df_all['all_texts'][:5]"
   ]
  },
  {
   "cell_type": "code",
   "execution_count": 42,
   "id": "c6e5d914",
   "metadata": {},
   "outputs": [],
   "source": [
    "# import gensim for tokenize and dictionary "
   ]
  },
  {
   "cell_type": "code",
   "execution_count": 43,
   "id": "d2881e02",
   "metadata": {},
   "outputs": [
    {
     "name": "stdout",
     "output_type": "stream",
     "text": [
      "Dictionary(221877 unique tokens: ['a', 'against', 'alonehelp', 'also', 'and']...)\n"
     ]
    }
   ],
   "source": [
    "from gensim.utils import tokenize\n",
    "from gensim.corpora.dictionary import Dictionary\n",
    "dictionary = Dictionary(list(tokenize(x, errors = 'ignore')) for x in df_all['all_texts'].values)\n",
    "print(dictionary)"
   ]
  },
  {
   "cell_type": "code",
   "execution_count": 44,
   "id": "c286cb65",
   "metadata": {},
   "outputs": [],
   "source": [
    "### scan the dictionary and transfer this dictionary to bags of words"
   ]
  },
  {
   "cell_type": "code",
   "execution_count": 45,
   "id": "d0d07065",
   "metadata": {},
   "outputs": [],
   "source": [
    "class MyCorpus(object):\n",
    "    def __iter__(self):\n",
    "        for x in df_all['all_texts'].values:\n",
    "            yield dictionary.doc2bow(list(tokenize(x, errors='ignore')))\n",
    "            \n",
    "            \n",
    "corpus = MyCorpus()"
   ]
  },
  {
   "cell_type": "code",
   "execution_count": 1,
   "id": "ffd0454a",
   "metadata": {},
   "outputs": [
    {
     "ename": "NameError",
     "evalue": "name 'corpus' is not defined",
     "output_type": "error",
     "traceback": [
      "\u001b[1;31m---------------------------------------------------------------------------\u001b[0m",
      "\u001b[1;31mNameError\u001b[0m                                 Traceback (most recent call last)",
      "\u001b[1;32m<ipython-input-1-3fe1cf46351c>\u001b[0m in \u001b[0;36m<module>\u001b[1;34m\u001b[0m\n\u001b[1;32m----> 1\u001b[1;33m \u001b[0mprint\u001b[0m\u001b[1;33m(\u001b[0m\u001b[0mcorpus\u001b[0m\u001b[1;33m)\u001b[0m\u001b[1;33m\u001b[0m\u001b[1;33m\u001b[0m\u001b[0m\n\u001b[0m",
      "\u001b[1;31mNameError\u001b[0m: name 'corpus' is not defined"
     ]
    }
   ],
   "source": [
    "print(corpus)"
   ]
  },
  {
   "cell_type": "code",
   "execution_count": 54,
   "id": "f2eda7ac",
   "metadata": {},
   "outputs": [
    {
     "name": "stdout",
     "output_type": "stream",
     "text": [
      "<bound method DataFrame.info of             id  product_uid  \\\n",
      "0            2       100001   \n",
      "1            3       100001   \n",
      "2            9       100002   \n",
      "3           16       100005   \n",
      "4           17       100005   \n",
      "...        ...          ...   \n",
      "240755  240756       224424   \n",
      "240756  240757       224425   \n",
      "240757  240758       224426   \n",
      "240758  240759       224427   \n",
      "240759  240760       224428   \n",
      "\n",
      "                                            product_title  \\\n",
      "0                          simpson strong-ti 12-gaug angl   \n",
      "1                          simpson strong-ti 12-gaug angl   \n",
      "2       behr premium textur deckov 1-gal. #sc-141 tugb...   \n",
      "3       delta vero 1-handl shower onli faucet trim kit...   \n",
      "4       delta vero 1-handl shower onli faucet trim kit...   \n",
      "...                                                   ...   \n",
      "240755  stufurhom norma 24 in. w x 16 in. d x 34 in. h...   \n",
      "240756  home decor collect 49 in. d alessandro spicebe...   \n",
      "240757  simpson strong-ti hb 3-1/2 x 14 in. top flang ...   \n",
      "240758  1/4 in. -20 tpi x 1-1/2 in. stainless steel bu...   \n",
      "240759                        bosch 4 in. bi-met hole saw   \n",
      "\n",
      "                    search_term  relevance  \\\n",
      "0                  angl bracket       3.00   \n",
      "1                     l bracket       2.50   \n",
      "2                     deck over       3.00   \n",
      "3              rain shower head       2.33   \n",
      "4            shower onli faucet       2.67   \n",
      "...                         ...        ...   \n",
      "240755  24 whtie storag cabinet        NaN   \n",
      "240756        adirondeck cusion        NaN   \n",
      "240757                       hb        NaN   \n",
      "240758               hex socket        NaN   \n",
      "240759          4 inch hole saw        NaN   \n",
      "\n",
      "                                      product_description  dist_in_title  \\\n",
      "0       not onli do angl make joint stronger, they als...       0.190476   \n",
      "1       not onli do angl make joint stronger, they als...       0.153846   \n",
      "2       behr premium textur deckov is an innov solid c...       0.175000   \n",
      "3       updat your bathroom with the delta vero single...       0.326087   \n",
      "4       updat your bathroom with the delta vero single...       0.382979   \n",
      "...                                                   ...            ...   \n",
      "240755  creat a neat yet stylish storag space for orga...       0.419048   \n",
      "240756  our bullnos adirondack chair cushion fit adiro...       0.260163   \n",
      "240757  joist hanger are design to provid support unde...       0.064516   \n",
      "240758  these socket cap screw are ideal for applic th...       0.188679   \n",
      "240759  the bosch quick chang bi-met hole saw featur p...       0.619048   \n",
      "\n",
      "        dist_in_desc                                          all_texts  \n",
      "0           0.030418  simpson strong-ti 12-gaug angl . not onli do a...  \n",
      "1           0.022901  simpson strong-ti 12-gaug angl . not onli do a...  \n",
      "2           0.017875  behr premium textur deckov 1-gal. #sc-141 tugb...  \n",
      "3           0.048632  delta vero 1-handl shower onli faucet trim kit...  \n",
      "4           0.054545  delta vero 1-handl shower onli faucet trim kit...  \n",
      "...              ...                                                ...  \n",
      "240755      0.062331  stufurhom norma 24 in. w x 16 in. d x 34 in. h...  \n",
      "240756      0.045455  home decor collect 49 in. d alessandro spicebe...  \n",
      "240757      0.007843  simpson strong-ti hb 3-1/2 x 14 in. top flang ...  \n",
      "240758      0.035651  1/4 in. -20 tpi x 1-1/2 in. stainless steel bu...  \n",
      "240759      0.057260  bosch 4 in. bi-met hole saw . the bosch quick ...  \n",
      "\n",
      "[240760 rows x 9 columns]>\n"
     ]
    }
   ],
   "source": [
    "print(df_all.info)"
   ]
  },
  {
   "cell_type": "code",
   "execution_count": 46,
   "id": "ffe2703b",
   "metadata": {},
   "outputs": [],
   "source": [
    "# import TF-iDF and apply this package to the dictionary"
   ]
  },
  {
   "cell_type": "code",
   "execution_count": 47,
   "id": "f37e3053",
   "metadata": {},
   "outputs": [],
   "source": [
    "from gensim.models.tfidfmodel import TfidfModel\n",
    "tfidf = TfidfModel(corpus)"
   ]
  },
  {
   "cell_type": "code",
   "execution_count": 48,
   "id": "d6da4ae9",
   "metadata": {},
   "outputs": [
    {
     "data": {
      "text/plain": [
       "[(1001, 0.2947139124944075),\n",
       " (3433, 0.28760732706613895),\n",
       " (33767, 0.6587176730120703),\n",
       " (35250, 0.6296957697663794)]"
      ]
     },
     "execution_count": 48,
     "metadata": {},
     "output_type": "execute_result"
    }
   ],
   "source": [
    "tfidf[dictionary.doc2bow(list(tokenize('hello world, good morning', errors='ignore')))]"
   ]
  },
  {
   "cell_type": "markdown",
   "id": "166fe80b",
   "metadata": {},
   "source": [
    "### need to build a function to standardize the size of the vectors, as different setence has different size, we need to fill all the vectors with 0s -- scale standardization step"
   ]
  },
  {
   "cell_type": "code",
   "execution_count": 37,
   "id": "9e984236",
   "metadata": {},
   "outputs": [],
   "source": [
    "from gensim.similarities import MatrixSimilarity\n",
    "\n",
    "def to_tfidf(text):\n",
    "    res = tfidf[dictionary.doc2bow(list(tokenize(text, errors = 'ignore')))]\n",
    "    return res\n",
    "\n",
    "def cos_sim(text1, text2):\n",
    "    tfidf1 = to_tfidf(text1)\n",
    "    tfidf2 = to_tfidf(text2)\n",
    "    index = MatrixSimilarity([tfidf1],num_features=len(dictionary))\n",
    "    sim = index[tfidf2]\n",
    "    return float(sim[0])\n",
    "    "
   ]
  },
  {
   "cell_type": "code",
   "execution_count": 38,
   "id": "796e6f0e",
   "metadata": {},
   "outputs": [],
   "source": [
    "## do a test for the function above"
   ]
  },
  {
   "cell_type": "code",
   "execution_count": 39,
   "id": "1934f1ce",
   "metadata": {},
   "outputs": [
    {
     "data": {
      "text/plain": [
       "0.8566456437110901"
      ]
     },
     "execution_count": 39,
     "metadata": {},
     "output_type": "execute_result"
    }
   ],
   "source": [
    "text1 = 'hello world'\n",
    "text2 = 'hello from the other side'\n",
    "cos_sim(text1, text2)"
   ]
  },
  {
   "cell_type": "code",
   "execution_count": 40,
   "id": "3096f97a",
   "metadata": {},
   "outputs": [
    {
     "ename": "SyntaxError",
     "evalue": "invalid syntax (<ipython-input-40-b7e53b5213c0>, line 1)",
     "output_type": "error",
     "traceback": [
      "\u001b[1;36m  File \u001b[1;32m\"<ipython-input-40-b7e53b5213c0>\"\u001b[1;36m, line \u001b[1;32m1\u001b[0m\n\u001b[1;33m    apply the function above to calculate the similarities of the three columns\u001b[0m\n\u001b[1;37m          ^\u001b[0m\n\u001b[1;31mSyntaxError\u001b[0m\u001b[1;31m:\u001b[0m invalid syntax\n"
     ]
    }
   ],
   "source": [
    "#apply the function above to calculate the similarities of the three columns "
   ]
  },
  {
   "cell_type": "code",
   "execution_count": 41,
   "id": "6e7ca587",
   "metadata": {},
   "outputs": [],
   "source": [
    "df_all['tfidf_cos_sim_in_title'] = df_all.apply(lambda x: cos_sim(x['search_term'], x['product_title']), axis=1)"
   ]
  },
  {
   "cell_type": "code",
   "execution_count": 42,
   "id": "ab345c26",
   "metadata": {},
   "outputs": [
    {
     "data": {
      "text/plain": [
       "0    0.274539\n",
       "1    0.000000\n",
       "2    0.000000\n",
       "3    0.133577\n",
       "4    0.397320\n",
       "Name: tfidf_cos_sim_in_title, dtype: float64"
      ]
     },
     "execution_count": 42,
     "metadata": {},
     "output_type": "execute_result"
    }
   ],
   "source": [
    "df_all['tfidf_cos_sim_in_title'][:5]"
   ]
  },
  {
   "cell_type": "code",
   "execution_count": 43,
   "id": "566108f3",
   "metadata": {},
   "outputs": [],
   "source": [
    "df_all['tfidf_cos_sim_in_desc'] = df_all.apply(lambda x: cos_sim(x['search_term'], x['product_description']), axis=1)"
   ]
  },
  {
   "cell_type": "code",
   "execution_count": 44,
   "id": "ab8a2154",
   "metadata": {},
   "outputs": [
    {
     "data": {
      "text/plain": [
       "0    0.182836\n",
       "1    0.000000\n",
       "2    0.053455\n",
       "3    0.043712\n",
       "4    0.098485\n",
       "Name: tfidf_cos_sim_in_desc, dtype: float64"
      ]
     },
     "execution_count": 44,
     "metadata": {},
     "output_type": "execute_result"
    }
   ],
   "source": [
    "df_all['tfidf_cos_sim_in_desc'][:5]"
   ]
  },
  {
   "cell_type": "code",
   "execution_count": 45,
   "id": "fc37917e",
   "metadata": {},
   "outputs": [],
   "source": [
    "# drop all the non-numerical features for modeling"
   ]
  },
  {
   "cell_type": "code",
   "execution_count": 46,
   "id": "a53a17dd",
   "metadata": {},
   "outputs": [],
   "source": [
    "df_all.drop(['search_term','product_title','product_description','all_texts'], inplace = True, axis =1 )"
   ]
  },
  {
   "cell_type": "code",
   "execution_count": 47,
   "id": "7171dba5",
   "metadata": {},
   "outputs": [
    {
     "data": {
      "text/html": [
       "<div>\n",
       "<style scoped>\n",
       "    .dataframe tbody tr th:only-of-type {\n",
       "        vertical-align: middle;\n",
       "    }\n",
       "\n",
       "    .dataframe tbody tr th {\n",
       "        vertical-align: top;\n",
       "    }\n",
       "\n",
       "    .dataframe thead th {\n",
       "        text-align: right;\n",
       "    }\n",
       "</style>\n",
       "<table border=\"1\" class=\"dataframe\">\n",
       "  <thead>\n",
       "    <tr style=\"text-align: right;\">\n",
       "      <th></th>\n",
       "      <th>id</th>\n",
       "      <th>product_uid</th>\n",
       "      <th>relevance</th>\n",
       "      <th>dist_in_title</th>\n",
       "      <th>dist_in_desc</th>\n",
       "      <th>tfidf_cos_sim_in_title</th>\n",
       "      <th>tfidf_cos_sim_in_desc</th>\n",
       "    </tr>\n",
       "  </thead>\n",
       "  <tbody>\n",
       "    <tr>\n",
       "      <th>0</th>\n",
       "      <td>2</td>\n",
       "      <td>100001</td>\n",
       "      <td>3.00</td>\n",
       "      <td>0.190476</td>\n",
       "      <td>0.030418</td>\n",
       "      <td>0.274539</td>\n",
       "      <td>0.182836</td>\n",
       "    </tr>\n",
       "    <tr>\n",
       "      <th>1</th>\n",
       "      <td>3</td>\n",
       "      <td>100001</td>\n",
       "      <td>2.50</td>\n",
       "      <td>0.153846</td>\n",
       "      <td>0.022901</td>\n",
       "      <td>0.000000</td>\n",
       "      <td>0.000000</td>\n",
       "    </tr>\n",
       "    <tr>\n",
       "      <th>2</th>\n",
       "      <td>9</td>\n",
       "      <td>100002</td>\n",
       "      <td>3.00</td>\n",
       "      <td>0.175000</td>\n",
       "      <td>0.017875</td>\n",
       "      <td>0.000000</td>\n",
       "      <td>0.053455</td>\n",
       "    </tr>\n",
       "    <tr>\n",
       "      <th>3</th>\n",
       "      <td>16</td>\n",
       "      <td>100005</td>\n",
       "      <td>2.33</td>\n",
       "      <td>0.326087</td>\n",
       "      <td>0.048632</td>\n",
       "      <td>0.133577</td>\n",
       "      <td>0.043712</td>\n",
       "    </tr>\n",
       "    <tr>\n",
       "      <th>4</th>\n",
       "      <td>17</td>\n",
       "      <td>100005</td>\n",
       "      <td>2.67</td>\n",
       "      <td>0.382979</td>\n",
       "      <td>0.054545</td>\n",
       "      <td>0.397320</td>\n",
       "      <td>0.098485</td>\n",
       "    </tr>\n",
       "  </tbody>\n",
       "</table>\n",
       "</div>"
      ],
      "text/plain": [
       "   id  product_uid  relevance  dist_in_title  dist_in_desc  \\\n",
       "0   2       100001       3.00       0.190476      0.030418   \n",
       "1   3       100001       2.50       0.153846      0.022901   \n",
       "2   9       100002       3.00       0.175000      0.017875   \n",
       "3  16       100005       2.33       0.326087      0.048632   \n",
       "4  17       100005       2.67       0.382979      0.054545   \n",
       "\n",
       "   tfidf_cos_sim_in_title  tfidf_cos_sim_in_desc  \n",
       "0                0.274539               0.182836  \n",
       "1                0.000000               0.000000  \n",
       "2                0.000000               0.053455  \n",
       "3                0.133577               0.043712  \n",
       "4                0.397320               0.098485  "
      ]
     },
     "execution_count": 47,
     "metadata": {},
     "output_type": "execute_result"
    }
   ],
   "source": [
    "df_all.head()"
   ]
  },
  {
   "cell_type": "code",
   "execution_count": 48,
   "id": "6003d373",
   "metadata": {},
   "outputs": [],
   "source": [
    "#in sum, right now ,we have four new columns which derived from the old columns, we use two methods which are Levenshtein and tfidf"
   ]
  },
  {
   "cell_type": "markdown",
   "id": "6b42b37a",
   "metadata": {},
   "source": [
    "## step 4: spilit the data set back to train & test set"
   ]
  },
  {
   "cell_type": "code",
   "execution_count": 49,
   "id": "a5f2ccdb",
   "metadata": {},
   "outputs": [],
   "source": [
    "df_train = df_all.loc[df_train.index]\n",
    "df_test = df_all.loc[df_test.index]"
   ]
  },
  {
   "cell_type": "code",
   "execution_count": 50,
   "id": "39e18b47",
   "metadata": {},
   "outputs": [],
   "source": [
    "test_ids = df_test['id']"
   ]
  },
  {
   "cell_type": "code",
   "execution_count": 51,
   "id": "6e80bd9b",
   "metadata": {},
   "outputs": [],
   "source": [
    "y_train = df_train['relevance'].values"
   ]
  },
  {
   "cell_type": "code",
   "execution_count": 52,
   "id": "9bf3a72c",
   "metadata": {},
   "outputs": [],
   "source": [
    "X_train = df_train.drop(['id','relevance'],axis=1).values\n",
    "X_test = df_test.drop(['id','relevance'],axis=1).values"
   ]
  },
  {
   "cell_type": "markdown",
   "id": "ff298403",
   "metadata": {},
   "source": [
    "# step 5: Model selection "
   ]
  },
  {
   "cell_type": "code",
   "execution_count": 53,
   "id": "eb2c9bbe",
   "metadata": {},
   "outputs": [],
   "source": [
    "from sklearn.ensemble import RandomForestRegressor\n",
    "from sklearn.model_selection import cross_val_score"
   ]
  },
  {
   "cell_type": "code",
   "execution_count": 54,
   "id": "33e92455",
   "metadata": {},
   "outputs": [],
   "source": [
    "from sklearn.linear_model import Ridge, RidgeCV, ElasticNet, LassoCV, LassoLarsCV\n",
    "from sklearn.model_selection import cross_val_score\n",
    "from sklearn.ensemble import GradientBoostingRegressor, RandomForestRegressor\n",
    "from lightgbm import LGBMRegressor\n",
    "from xgboost import XGBRegressor\n",
    "from sklearn.svm import SVR\n",
    "from sklearn.pipeline import make_pipeline\n",
    "from sklearn.preprocessing import RobustScaler\n",
    "from sklearn.model_selection import KFold, GridSearchCV, cross_val_score, train_test_split\n",
    "from sklearn.metrics import mean_squared_error\n",
    "import warnings   "
   ]
  },
  {
   "cell_type": "code",
   "execution_count": 55,
   "id": "8e85922f",
   "metadata": {},
   "outputs": [],
   "source": [
    "params = [1,3,5,6,7,8,9,10]\n",
    "rfr_test_scores = []\n",
    "\n",
    "\n",
    "for param in params:\n",
    "    rfr = RandomForestRegressor(n_estimators=30, max_depth=param)\n",
    "    test_score = np.sqrt(-cross_val_score(rfr, X_train, y_train, cv=5, scoring='neg_mean_squared_error'))\n",
    "    rfr_test_scores.append(np.mean(test_score))"
   ]
  },
  {
   "cell_type": "code",
   "execution_count": 56,
   "id": "d22b05d0",
   "metadata": {},
   "outputs": [
    {
     "data": {
      "image/png": "[encoded data removed]",
      "text/plain": [
       "<Figure size 432x288 with 1 Axes>"
      ]
     },
     "metadata": {
      "needs_background": "light"
     },
     "output_type": "display_data"
    }
   ],
   "source": [
    "import matplotlib.pyplot as plt\n",
    "%matplotlib inline\n",
    "plt.plot(params, rfr_test_scores)\n",
    "plt.title(\"Param vs CV Error\");"
   ]
  },
  {
   "cell_type": "code",
   "execution_count": 57,
   "id": "28e5ef41",
   "metadata": {},
   "outputs": [
    {
     "name": "stdout",
     "output_type": "stream",
     "text": [
      "[0.5138314108832868, 0.4987813185023916, 0.4927863178745923, 0.4915212314009955, 0.49171811871436855, 0.49118056549639794, 0.49260115763408513, 0.49321737945688493]\n"
     ]
    }
   ],
   "source": [
    "print(rfr_test_scores)"
   ]
  },
  {
   "cell_type": "code",
   "execution_count": 58,
   "id": "3bf71a91",
   "metadata": {},
   "outputs": [],
   "source": [
    "params = [1,3,5,6,7,8,9,10]\n",
    "gbr_test_scores = []\n",
    "\n",
    "#X_train = X_train.fillna(X_train.mean(),inplace = True)\n",
    "#y_train = y_train.fillna(y_train.mean(),inplace = True)\n",
    "for param in params:\n",
    "    gbr = GradientBoostingRegressor(n_estimators=30, max_depth=param)\n",
    "    test_score = np.sqrt(-cross_val_score(gbr, X_train, y_train, cv=5, scoring='neg_mean_squared_error'))\n",
    "    gbr_test_scores.append(np.mean(test_score))"
   ]
  },
  {
   "cell_type": "code",
   "execution_count": 59,
   "id": "c62a9e63",
   "metadata": {},
   "outputs": [
    {
     "data": {
      "image/png": "[encoded data removed]",
      "text/plain": [
       "<Figure size 432x288 with 1 Axes>"
      ]
     },
     "metadata": {
      "needs_background": "light"
     },
     "output_type": "display_data"
    }
   ],
   "source": [
    "import matplotlib.pyplot as plt\n",
    "%matplotlib inline\n",
    "plt.plot(params, gbr_test_scores)\n",
    "plt.title(\"Param vs CV Error\");"
   ]
  },
  {
   "cell_type": "code",
   "execution_count": 60,
   "id": "8ca666a8",
   "metadata": {},
   "outputs": [
    {
     "name": "stdout",
     "output_type": "stream",
     "text": [
      "[0.5001868372738553, 0.49163155567731753, 0.49058901121098275, 0.4914825614962283, 0.4928170074675302, 0.49512607268956277, 0.49785071789134666, 0.4995697155664969]\n"
     ]
    }
   ],
   "source": [
    "print(gbr_test_scores)"
   ]
  },
  {
   "cell_type": "code",
   "execution_count": 61,
   "id": "4fbe752e",
   "metadata": {},
   "outputs": [],
   "source": [
    "params = [1,3,5,6,7,8,9,10]\n",
    "xgb_test_scores = []\n",
    "\n",
    "#X_train = X_train.fillna(X_train.mean(),inplace = True)\n",
    "#y_train = y_train.fillna(y_train.mean(),inplace = True)\n",
    "for param in params:\n",
    "    xgb = XGBRegressor(n_estimators=30, max_depth=param)\n",
    "    test_score = np.sqrt(-cross_val_score(xgb, X_train, y_train, cv=5, scoring='neg_mean_squared_error'))\n",
    "    xgb_test_scores.append(np.mean(test_score))"
   ]
  },
  {
   "cell_type": "code",
   "execution_count": 62,
   "id": "3cbde20e",
   "metadata": {},
   "outputs": [
    {
     "data": {
      "image/png": "[encoded data removed]",
      "text/plain": [
       "<Figure size 432x288 with 1 Axes>"
      ]
     },
     "metadata": {
      "needs_background": "light"
     },
     "output_type": "display_data"
    }
   ],
   "source": [
    "import matplotlib.pyplot as plt\n",
    "%matplotlib inline\n",
    "plt.plot(params, xgb_test_scores)\n",
    "plt.title(\"Param vs CV Error\");"
   ]
  },
  {
   "cell_type": "code",
   "execution_count": 63,
   "id": "56d27f4a",
   "metadata": {},
   "outputs": [
    {
     "name": "stdout",
     "output_type": "stream",
     "text": [
      "[0.49184231507761156, 0.4911361924114937, 0.5057970280934803, 0.5122533269808635, 0.5072721970307731, 0.5198433254873253, 0.5252132355807195, 0.525525518766657]\n"
     ]
    }
   ],
   "source": [
    "print(xgb_test_scores)"
   ]
  },
  {
   "cell_type": "markdown",
   "id": "941ca589",
   "metadata": {},
   "source": [
    "# step 6: Choose the best model and caculate the result"
   ]
  },
  {
   "cell_type": "code",
   "execution_count": 64,
   "id": "f9f4fe0f",
   "metadata": {},
   "outputs": [],
   "source": [
    "rfr = RandomForestRegressor(n_estimators=30, max_depth=6)"
   ]
  },
  {
   "cell_type": "code",
   "execution_count": 65,
   "id": "81d47b0e",
   "metadata": {},
   "outputs": [
    {
     "data": {
      "text/plain": [
       "RandomForestRegressor(max_depth=6, n_estimators=30)"
      ]
     },
     "execution_count": 65,
     "metadata": {},
     "output_type": "execute_result"
    }
   ],
   "source": [
    "rfr.fit(X_train, y_train)"
   ]
  },
  {
   "cell_type": "code",
   "execution_count": 66,
   "id": "9f3d3565",
   "metadata": {},
   "outputs": [],
   "source": [
    "y_pred = rfr.predict(X_test)"
   ]
  },
  {
   "cell_type": "code",
   "execution_count": 67,
   "id": "a3fb346b",
   "metadata": {},
   "outputs": [],
   "source": [
    "pd.DataFrame({\"id\": test_ids, \"relevance\": y_pred}).to_csv('submission.csv',index=False)"
   ]
  },
  {
   "cell_type": "code",
   "execution_count": 70,
   "id": "73d4b59e",
   "metadata": {},
   "outputs": [
    {
     "data": {
      "text/plain": [
       "array([2.45651444, 2.0455801 , 2.20320464, ..., 2.59010177, 2.47996452,\n",
       "       2.27970175])"
      ]
     },
     "execution_count": 70,
     "metadata": {},
     "output_type": "execute_result"
    }
   ],
   "source": [
    "y_pred"
   ]
  }
 ],
 "metadata": {
  "kernelspec": {
   "display_name": "Python 3",
   "language": "python",
   "name": "python3"
  },
  "language_info": {
   "codemirror_mode": {
    "name": "ipython",
    "version": 3
   },
   "file_extension": ".py",
   "mimetype": "text/x-python",
   "name": "python",
   "nbconvert_exporter": "python",
   "pygments_lexer": "ipython3",
   "version": "3.8.8"
  }
 },
 "nbformat": 4,
 "nbformat_minor": 5
}
